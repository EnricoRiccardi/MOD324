{
 "cells": [
  {
   "cell_type": "markdown",
   "id": "3af174cb",
   "metadata": {},
   "source": [
    "# Unsupervised learning HANDS ON!\n",
    "\n",
    "Here an example on how to generate data in classes, and work on the data directly via their classes. "
   ]
  },
  {
   "cell_type": "markdown",
   "id": "8dd5a1f6-ee92-4a64-a016-fb16beec2266",
   "metadata": {},
   "source": [
    "#### Let's get back the class from the previous example"
   ]
  },
  {
   "cell_type": "code",
   "execution_count": 8,
   "id": "d7259890-3649-4ce2-94e6-87276622ee4c",
   "metadata": {},
   "outputs": [],
   "source": [
    "import numpy as np\n",
    "import matplotlib.pyplot as plt\n",
    "import pandas as pd\n",
    "import matplotlib.colors as colors\n",
    "import textwrap\n",
    "import seaborn as sns\n",
    "from sklearn.cluster import KMeans\n",
    "from sklearn.mixture import GaussianMixture\n",
    "from sklearn.metrics import silhouette_score\n",
    "from sklearn.metrics.cluster import silhouette_score, contingency_matrix\n",
    "    \n",
    "   \n",
    "class Data_generator():\n",
    "    def __init__(self, description='Data generator'):\n",
    "        \"\"\"Initializes the class creating the required attributes.\"\"\"\n",
    "        self.description = description    \n",
    "        self.df = None \n",
    "\n",
    "    def load_well(self, data_file=\"xeek_train_subset_mini.csv\", well_name=\"16/10-1\"):\n",
    "        \"\"\"Read a dataset.\"\"\" \n",
    "        self.df = pd.read_csv(data_file)\n",
    "        self.df = self.df[self.df[\"WELL\"] == well_name] # select data only for the specific well\n",
    "\n",
    "    def remove_nan(self):\n",
    "        self.df.dropna(inplace=True)\n",
    "    \n",
    "    def add_noise(self, properties=[\"RHOB\", \"GR\"], level=0.1):\n",
    "        \"\"\"Adds noise to the data.\"\"\"\n",
    "        # Noise for GR is different than that for RHOB due to the usual values of those two measurements. RHOB usually varies between 1.9-2.9 g/cm3 wheres GR between 5-300.\n",
    "        for property in properties:\n",
    "            if property == \"RHOB\":\n",
    "                range = [-level, level]\n",
    "            if property == \"GR\":\n",
    "                range = [-level*50, level*50]\n",
    "\n",
    "            noise = np.random.uniform(low=range[0], high=range[1], size=len(self.df[property]))\n",
    "            self.df[property] += noise\n",
    "    \n",
    "    def plot_me(self, x_lab='RHOB', y_lab='GR', legend=''):\n",
    "        \"\"\"Plots datasets.\"\"\"\n",
    "        plt.scatter(self.df[x_lab], self.df[y_lab], label=legend)\n",
    "        plt.xlabel(x_lab)\n",
    "        plt.ylabel(y_lab)\n",
    "        plt.legend()\n",
    "\n",
    "    def get_data(self):\n",
    "        return self.df\n",
    "    \n",
    "   \n",
    "class Model_generator():\n",
    "    def __init__(self, description='Model generator', data=None):\n",
    "        \"\"\"Initializes the class creating the required attributes.\"\"\"\n",
    "        self.description = description    \n",
    "        self.df = data\n",
    "        \n",
    "    def optimise_k_means(self, max_k):\n",
    "        \"\"\"Plots number of clusters vs the inertia which helps to determine the optimal number of clusters to be used\"\"\"\n",
    "        #The user can choose to run the original data with no noise or the one with added noise\n",
    "        means = []\n",
    "        inertias = []\n",
    "        \n",
    "        # Applies kmeans over a range of different cluster numbers limited by max_k\n",
    "        for k in range(1, max_k):\n",
    "            kmeans = KMeans(n_clusters=k)\n",
    "            kmeans.fit(self.df[[\"GR\", \"RHOB\"]].dropna(inplace=True))\n",
    "            means.append(k)\n",
    "            inertias.append(kmeans.inertia_)\n",
    "\n",
    "        # Plotting parameters   \n",
    "        plt.subplots(figsize=(10, 5))\n",
    "        plt.plot(means, inertias, 'o-')\n",
    "        plt.xlabel(\"Number of Clusters\")\n",
    "        plt.ylabel(\"Inertia\")\n",
    "        plt.grid(True)\n",
    "        plt.show()\n",
    "\n",
    "    \n",
    "    def k_means_gmm(self, n_clusters):\n",
    "        \"\"\"Applies kmeans and gmm models and adds the created labels to a df with other curves\"\"\" \n",
    "\n",
    "        # Apply K-means clustering\n",
    "        kmeans = KMeans(n_clusters) \n",
    "        kmeans.fit(self.df[['GR', 'RHOB', 'NPHI', 'DTC']].dropna(inplace=True))\n",
    "        labels_kmeans = kmeans.labels_\n",
    "        df_w_labels['KMEANS'] = labels_kmeans #add kmeans labels to the df\n",
    "\n",
    "        #A pply Gaussian Mixture Model\n",
    "        gmm = GaussianMixture(n_clusters)\n",
    "        gmm.fit(self.df[['GR', 'RHOB', 'NPHI', 'DTC']].dropna(inplace=True))\n",
    "        labels_gmm = gmm.predict(self.df[['GR', 'RHOB', 'NPHI', 'DTC']].dropna(inplace=True))\n",
    "        df_w_labels['GMM'] = labels_gmm #add GMM labels to the df\n",
    "\n",
    "        return df_w_labels #returns df with the added kmeans and gmm labels\n",
    "    \n",
    "\n",
    "    \n",
    "class Plotter_generator():\n",
    "    \n",
    "    def __init__(self, description='Plot generator', data=None):\n",
    "        \"\"\"Initializes the class creating the required attributes.\"\"\"\n",
    "        self.description = description    \n",
    "        self.df = data\n",
    "        \n",
    "        \n",
    "    def crossplots(self, dataset, hue='KMEANS'):\n",
    "        \"\"\"Creates seaborn pairplot coloured by hue labels\"\"\"\n",
    "        sns.pairplot(dataset, vars=['GR', 'RHOB','NPHI', 'DTC'], \n",
    "                     hue=hue, palette='Dark2', \n",
    "                     diag_kind='kde', \n",
    "                     plot_kws = {'s': 15, 'marker':'o', 'alpha':1})\n",
    "\n",
    "\n",
    "\n",
    "\n",
    "        "
   ]
  },
  {
   "cell_type": "code",
   "execution_count": 9,
   "id": "58bc230b",
   "metadata": {},
   "outputs": [
    {
     "ename": "FileNotFoundError",
     "evalue": "[Errno 2] No such file or directory: 'xeek_train_subset_mini.csv'",
     "output_type": "error",
     "traceback": [
      "\u001b[0;31m---------------------------------------------------------------------------\u001b[0m",
      "\u001b[0;31mFileNotFoundError\u001b[0m                         Traceback (most recent call last)",
      "Cell \u001b[0;32mIn[9], line 3\u001b[0m\n\u001b[1;32m      1\u001b[0m \u001b[38;5;66;03m#Create the class, add noise and plot data with and without noise for visualization\u001b[39;00m\n\u001b[1;32m      2\u001b[0m well_data \u001b[38;5;241m=\u001b[39m Data_generator()\n\u001b[0;32m----> 3\u001b[0m \u001b[43mwell_data\u001b[49m\u001b[38;5;241;43m.\u001b[39;49m\u001b[43mload_well\u001b[49m\u001b[43m(\u001b[49m\u001b[43m)\u001b[49m \n\u001b[1;32m      4\u001b[0m well_data\u001b[38;5;241m.\u001b[39mplot_me(legend\u001b[38;5;241m=\u001b[39m\u001b[38;5;124m'\u001b[39m\u001b[38;5;124mOriginal\u001b[39m\u001b[38;5;124m'\u001b[39m)\n\u001b[1;32m      6\u001b[0m well_data\u001b[38;5;241m.\u001b[39madd_noise(level\u001b[38;5;241m=\u001b[39m\u001b[38;5;241m0.3\u001b[39m)\n",
      "Cell \u001b[0;32mIn[8], line 21\u001b[0m, in \u001b[0;36mData_generator.load_well\u001b[0;34m(self, data_file, well_name)\u001b[0m\n\u001b[1;32m     19\u001b[0m \u001b[38;5;28;01mdef\u001b[39;00m \u001b[38;5;21mload_well\u001b[39m(\u001b[38;5;28mself\u001b[39m, data_file\u001b[38;5;241m=\u001b[39m\u001b[38;5;124m\"\u001b[39m\u001b[38;5;124mxeek_train_subset_mini.csv\u001b[39m\u001b[38;5;124m\"\u001b[39m, well_name\u001b[38;5;241m=\u001b[39m\u001b[38;5;124m\"\u001b[39m\u001b[38;5;124m16/10-1\u001b[39m\u001b[38;5;124m\"\u001b[39m):\n\u001b[1;32m     20\u001b[0m \u001b[38;5;250m    \u001b[39m\u001b[38;5;124;03m\"\"\"Read a dataset.\"\"\"\u001b[39;00m \n\u001b[0;32m---> 21\u001b[0m     \u001b[38;5;28mself\u001b[39m\u001b[38;5;241m.\u001b[39mdf \u001b[38;5;241m=\u001b[39m \u001b[43mpd\u001b[49m\u001b[38;5;241;43m.\u001b[39;49m\u001b[43mread_csv\u001b[49m\u001b[43m(\u001b[49m\u001b[43mdata_file\u001b[49m\u001b[43m)\u001b[49m\n\u001b[1;32m     22\u001b[0m     \u001b[38;5;28mself\u001b[39m\u001b[38;5;241m.\u001b[39mdf \u001b[38;5;241m=\u001b[39m \u001b[38;5;28mself\u001b[39m\u001b[38;5;241m.\u001b[39mdf[\u001b[38;5;28mself\u001b[39m\u001b[38;5;241m.\u001b[39mdf[\u001b[38;5;124m\"\u001b[39m\u001b[38;5;124mWELL\u001b[39m\u001b[38;5;124m\"\u001b[39m] \u001b[38;5;241m==\u001b[39m well_name]\n",
      "File \u001b[0;32m~/miniconda3/envs/various/lib/python3.10/site-packages/pandas/io/parsers/readers.py:912\u001b[0m, in \u001b[0;36mread_csv\u001b[0;34m(filepath_or_buffer, sep, delimiter, header, names, index_col, usecols, dtype, engine, converters, true_values, false_values, skipinitialspace, skiprows, skipfooter, nrows, na_values, keep_default_na, na_filter, verbose, skip_blank_lines, parse_dates, infer_datetime_format, keep_date_col, date_parser, date_format, dayfirst, cache_dates, iterator, chunksize, compression, thousands, decimal, lineterminator, quotechar, quoting, doublequote, escapechar, comment, encoding, encoding_errors, dialect, on_bad_lines, delim_whitespace, low_memory, memory_map, float_precision, storage_options, dtype_backend)\u001b[0m\n\u001b[1;32m    899\u001b[0m kwds_defaults \u001b[38;5;241m=\u001b[39m _refine_defaults_read(\n\u001b[1;32m    900\u001b[0m     dialect,\n\u001b[1;32m    901\u001b[0m     delimiter,\n\u001b[0;32m   (...)\u001b[0m\n\u001b[1;32m    908\u001b[0m     dtype_backend\u001b[38;5;241m=\u001b[39mdtype_backend,\n\u001b[1;32m    909\u001b[0m )\n\u001b[1;32m    910\u001b[0m kwds\u001b[38;5;241m.\u001b[39mupdate(kwds_defaults)\n\u001b[0;32m--> 912\u001b[0m \u001b[38;5;28;01mreturn\u001b[39;00m \u001b[43m_read\u001b[49m\u001b[43m(\u001b[49m\u001b[43mfilepath_or_buffer\u001b[49m\u001b[43m,\u001b[49m\u001b[43m \u001b[49m\u001b[43mkwds\u001b[49m\u001b[43m)\u001b[49m\n",
      "File \u001b[0;32m~/miniconda3/envs/various/lib/python3.10/site-packages/pandas/io/parsers/readers.py:577\u001b[0m, in \u001b[0;36m_read\u001b[0;34m(filepath_or_buffer, kwds)\u001b[0m\n\u001b[1;32m    574\u001b[0m _validate_names(kwds\u001b[38;5;241m.\u001b[39mget(\u001b[38;5;124m\"\u001b[39m\u001b[38;5;124mnames\u001b[39m\u001b[38;5;124m\"\u001b[39m, \u001b[38;5;28;01mNone\u001b[39;00m))\n\u001b[1;32m    576\u001b[0m \u001b[38;5;66;03m# Create the parser.\u001b[39;00m\n\u001b[0;32m--> 577\u001b[0m parser \u001b[38;5;241m=\u001b[39m \u001b[43mTextFileReader\u001b[49m\u001b[43m(\u001b[49m\u001b[43mfilepath_or_buffer\u001b[49m\u001b[43m,\u001b[49m\u001b[43m \u001b[49m\u001b[38;5;241;43m*\u001b[39;49m\u001b[38;5;241;43m*\u001b[39;49m\u001b[43mkwds\u001b[49m\u001b[43m)\u001b[49m\n\u001b[1;32m    579\u001b[0m \u001b[38;5;28;01mif\u001b[39;00m chunksize \u001b[38;5;129;01mor\u001b[39;00m iterator:\n\u001b[1;32m    580\u001b[0m     \u001b[38;5;28;01mreturn\u001b[39;00m parser\n",
      "File \u001b[0;32m~/miniconda3/envs/various/lib/python3.10/site-packages/pandas/io/parsers/readers.py:1407\u001b[0m, in \u001b[0;36mTextFileReader.__init__\u001b[0;34m(self, f, engine, **kwds)\u001b[0m\n\u001b[1;32m   1404\u001b[0m     \u001b[38;5;28mself\u001b[39m\u001b[38;5;241m.\u001b[39moptions[\u001b[38;5;124m\"\u001b[39m\u001b[38;5;124mhas_index_names\u001b[39m\u001b[38;5;124m\"\u001b[39m] \u001b[38;5;241m=\u001b[39m kwds[\u001b[38;5;124m\"\u001b[39m\u001b[38;5;124mhas_index_names\u001b[39m\u001b[38;5;124m\"\u001b[39m]\n\u001b[1;32m   1406\u001b[0m \u001b[38;5;28mself\u001b[39m\u001b[38;5;241m.\u001b[39mhandles: IOHandles \u001b[38;5;241m|\u001b[39m \u001b[38;5;28;01mNone\u001b[39;00m \u001b[38;5;241m=\u001b[39m \u001b[38;5;28;01mNone\u001b[39;00m\n\u001b[0;32m-> 1407\u001b[0m \u001b[38;5;28mself\u001b[39m\u001b[38;5;241m.\u001b[39m_engine \u001b[38;5;241m=\u001b[39m \u001b[38;5;28;43mself\u001b[39;49m\u001b[38;5;241;43m.\u001b[39;49m\u001b[43m_make_engine\u001b[49m\u001b[43m(\u001b[49m\u001b[43mf\u001b[49m\u001b[43m,\u001b[49m\u001b[43m \u001b[49m\u001b[38;5;28;43mself\u001b[39;49m\u001b[38;5;241;43m.\u001b[39;49m\u001b[43mengine\u001b[49m\u001b[43m)\u001b[49m\n",
      "File \u001b[0;32m~/miniconda3/envs/various/lib/python3.10/site-packages/pandas/io/parsers/readers.py:1661\u001b[0m, in \u001b[0;36mTextFileReader._make_engine\u001b[0;34m(self, f, engine)\u001b[0m\n\u001b[1;32m   1659\u001b[0m     \u001b[38;5;28;01mif\u001b[39;00m \u001b[38;5;124m\"\u001b[39m\u001b[38;5;124mb\u001b[39m\u001b[38;5;124m\"\u001b[39m \u001b[38;5;129;01mnot\u001b[39;00m \u001b[38;5;129;01min\u001b[39;00m mode:\n\u001b[1;32m   1660\u001b[0m         mode \u001b[38;5;241m+\u001b[39m\u001b[38;5;241m=\u001b[39m \u001b[38;5;124m\"\u001b[39m\u001b[38;5;124mb\u001b[39m\u001b[38;5;124m\"\u001b[39m\n\u001b[0;32m-> 1661\u001b[0m \u001b[38;5;28mself\u001b[39m\u001b[38;5;241m.\u001b[39mhandles \u001b[38;5;241m=\u001b[39m \u001b[43mget_handle\u001b[49m\u001b[43m(\u001b[49m\n\u001b[1;32m   1662\u001b[0m \u001b[43m    \u001b[49m\u001b[43mf\u001b[49m\u001b[43m,\u001b[49m\n\u001b[1;32m   1663\u001b[0m \u001b[43m    \u001b[49m\u001b[43mmode\u001b[49m\u001b[43m,\u001b[49m\n\u001b[1;32m   1664\u001b[0m \u001b[43m    \u001b[49m\u001b[43mencoding\u001b[49m\u001b[38;5;241;43m=\u001b[39;49m\u001b[38;5;28;43mself\u001b[39;49m\u001b[38;5;241;43m.\u001b[39;49m\u001b[43moptions\u001b[49m\u001b[38;5;241;43m.\u001b[39;49m\u001b[43mget\u001b[49m\u001b[43m(\u001b[49m\u001b[38;5;124;43m\"\u001b[39;49m\u001b[38;5;124;43mencoding\u001b[39;49m\u001b[38;5;124;43m\"\u001b[39;49m\u001b[43m,\u001b[49m\u001b[43m \u001b[49m\u001b[38;5;28;43;01mNone\u001b[39;49;00m\u001b[43m)\u001b[49m\u001b[43m,\u001b[49m\n\u001b[1;32m   1665\u001b[0m \u001b[43m    \u001b[49m\u001b[43mcompression\u001b[49m\u001b[38;5;241;43m=\u001b[39;49m\u001b[38;5;28;43mself\u001b[39;49m\u001b[38;5;241;43m.\u001b[39;49m\u001b[43moptions\u001b[49m\u001b[38;5;241;43m.\u001b[39;49m\u001b[43mget\u001b[49m\u001b[43m(\u001b[49m\u001b[38;5;124;43m\"\u001b[39;49m\u001b[38;5;124;43mcompression\u001b[39;49m\u001b[38;5;124;43m\"\u001b[39;49m\u001b[43m,\u001b[49m\u001b[43m \u001b[49m\u001b[38;5;28;43;01mNone\u001b[39;49;00m\u001b[43m)\u001b[49m\u001b[43m,\u001b[49m\n\u001b[1;32m   1666\u001b[0m \u001b[43m    \u001b[49m\u001b[43mmemory_map\u001b[49m\u001b[38;5;241;43m=\u001b[39;49m\u001b[38;5;28;43mself\u001b[39;49m\u001b[38;5;241;43m.\u001b[39;49m\u001b[43moptions\u001b[49m\u001b[38;5;241;43m.\u001b[39;49m\u001b[43mget\u001b[49m\u001b[43m(\u001b[49m\u001b[38;5;124;43m\"\u001b[39;49m\u001b[38;5;124;43mmemory_map\u001b[39;49m\u001b[38;5;124;43m\"\u001b[39;49m\u001b[43m,\u001b[49m\u001b[43m \u001b[49m\u001b[38;5;28;43;01mFalse\u001b[39;49;00m\u001b[43m)\u001b[49m\u001b[43m,\u001b[49m\n\u001b[1;32m   1667\u001b[0m \u001b[43m    \u001b[49m\u001b[43mis_text\u001b[49m\u001b[38;5;241;43m=\u001b[39;49m\u001b[43mis_text\u001b[49m\u001b[43m,\u001b[49m\n\u001b[1;32m   1668\u001b[0m \u001b[43m    \u001b[49m\u001b[43merrors\u001b[49m\u001b[38;5;241;43m=\u001b[39;49m\u001b[38;5;28;43mself\u001b[39;49m\u001b[38;5;241;43m.\u001b[39;49m\u001b[43moptions\u001b[49m\u001b[38;5;241;43m.\u001b[39;49m\u001b[43mget\u001b[49m\u001b[43m(\u001b[49m\u001b[38;5;124;43m\"\u001b[39;49m\u001b[38;5;124;43mencoding_errors\u001b[39;49m\u001b[38;5;124;43m\"\u001b[39;49m\u001b[43m,\u001b[49m\u001b[43m \u001b[49m\u001b[38;5;124;43m\"\u001b[39;49m\u001b[38;5;124;43mstrict\u001b[39;49m\u001b[38;5;124;43m\"\u001b[39;49m\u001b[43m)\u001b[49m\u001b[43m,\u001b[49m\n\u001b[1;32m   1669\u001b[0m \u001b[43m    \u001b[49m\u001b[43mstorage_options\u001b[49m\u001b[38;5;241;43m=\u001b[39;49m\u001b[38;5;28;43mself\u001b[39;49m\u001b[38;5;241;43m.\u001b[39;49m\u001b[43moptions\u001b[49m\u001b[38;5;241;43m.\u001b[39;49m\u001b[43mget\u001b[49m\u001b[43m(\u001b[49m\u001b[38;5;124;43m\"\u001b[39;49m\u001b[38;5;124;43mstorage_options\u001b[39;49m\u001b[38;5;124;43m\"\u001b[39;49m\u001b[43m,\u001b[49m\u001b[43m \u001b[49m\u001b[38;5;28;43;01mNone\u001b[39;49;00m\u001b[43m)\u001b[49m\u001b[43m,\u001b[49m\n\u001b[1;32m   1670\u001b[0m \u001b[43m\u001b[49m\u001b[43m)\u001b[49m\n\u001b[1;32m   1671\u001b[0m \u001b[38;5;28;01massert\u001b[39;00m \u001b[38;5;28mself\u001b[39m\u001b[38;5;241m.\u001b[39mhandles \u001b[38;5;129;01mis\u001b[39;00m \u001b[38;5;129;01mnot\u001b[39;00m \u001b[38;5;28;01mNone\u001b[39;00m\n\u001b[1;32m   1672\u001b[0m f \u001b[38;5;241m=\u001b[39m \u001b[38;5;28mself\u001b[39m\u001b[38;5;241m.\u001b[39mhandles\u001b[38;5;241m.\u001b[39mhandle\n",
      "File \u001b[0;32m~/miniconda3/envs/various/lib/python3.10/site-packages/pandas/io/common.py:859\u001b[0m, in \u001b[0;36mget_handle\u001b[0;34m(path_or_buf, mode, encoding, compression, memory_map, is_text, errors, storage_options)\u001b[0m\n\u001b[1;32m    854\u001b[0m \u001b[38;5;28;01melif\u001b[39;00m \u001b[38;5;28misinstance\u001b[39m(handle, \u001b[38;5;28mstr\u001b[39m):\n\u001b[1;32m    855\u001b[0m     \u001b[38;5;66;03m# Check whether the filename is to be opened in binary mode.\u001b[39;00m\n\u001b[1;32m    856\u001b[0m     \u001b[38;5;66;03m# Binary mode does not support 'encoding' and 'newline'.\u001b[39;00m\n\u001b[1;32m    857\u001b[0m     \u001b[38;5;28;01mif\u001b[39;00m ioargs\u001b[38;5;241m.\u001b[39mencoding \u001b[38;5;129;01mand\u001b[39;00m \u001b[38;5;124m\"\u001b[39m\u001b[38;5;124mb\u001b[39m\u001b[38;5;124m\"\u001b[39m \u001b[38;5;129;01mnot\u001b[39;00m \u001b[38;5;129;01min\u001b[39;00m ioargs\u001b[38;5;241m.\u001b[39mmode:\n\u001b[1;32m    858\u001b[0m         \u001b[38;5;66;03m# Encoding\u001b[39;00m\n\u001b[0;32m--> 859\u001b[0m         handle \u001b[38;5;241m=\u001b[39m \u001b[38;5;28;43mopen\u001b[39;49m\u001b[43m(\u001b[49m\n\u001b[1;32m    860\u001b[0m \u001b[43m            \u001b[49m\u001b[43mhandle\u001b[49m\u001b[43m,\u001b[49m\n\u001b[1;32m    861\u001b[0m \u001b[43m            \u001b[49m\u001b[43mioargs\u001b[49m\u001b[38;5;241;43m.\u001b[39;49m\u001b[43mmode\u001b[49m\u001b[43m,\u001b[49m\n\u001b[1;32m    862\u001b[0m \u001b[43m            \u001b[49m\u001b[43mencoding\u001b[49m\u001b[38;5;241;43m=\u001b[39;49m\u001b[43mioargs\u001b[49m\u001b[38;5;241;43m.\u001b[39;49m\u001b[43mencoding\u001b[49m\u001b[43m,\u001b[49m\n\u001b[1;32m    863\u001b[0m \u001b[43m            \u001b[49m\u001b[43merrors\u001b[49m\u001b[38;5;241;43m=\u001b[39;49m\u001b[43merrors\u001b[49m\u001b[43m,\u001b[49m\n\u001b[1;32m    864\u001b[0m \u001b[43m            \u001b[49m\u001b[43mnewline\u001b[49m\u001b[38;5;241;43m=\u001b[39;49m\u001b[38;5;124;43m\"\u001b[39;49m\u001b[38;5;124;43m\"\u001b[39;49m\u001b[43m,\u001b[49m\n\u001b[1;32m    865\u001b[0m \u001b[43m        \u001b[49m\u001b[43m)\u001b[49m\n\u001b[1;32m    866\u001b[0m     \u001b[38;5;28;01melse\u001b[39;00m:\n\u001b[1;32m    867\u001b[0m         \u001b[38;5;66;03m# Binary mode\u001b[39;00m\n\u001b[1;32m    868\u001b[0m         handle \u001b[38;5;241m=\u001b[39m \u001b[38;5;28mopen\u001b[39m(handle, ioargs\u001b[38;5;241m.\u001b[39mmode)\n",
      "\u001b[0;31mFileNotFoundError\u001b[0m: [Errno 2] No such file or directory: 'xeek_train_subset_mini.csv'"
     ]
    }
   ],
   "source": [
    "#Create the class, add noise and plot data with and without noise for visualization\n",
    "well_data = Data_generator()\n",
    "well_data.load_well() \n",
    "well_data.plot_me(legend='Original')\n",
    "\n",
    "well_data.add_noise(level=0.3)\n",
    "well_data.plot_me(legend='With noise')"
   ]
  },
  {
   "cell_type": "code",
   "execution_count": 7,
   "id": "98d813d7",
   "metadata": {},
   "outputs": [
    {
     "ename": "TypeError",
     "evalue": "'NoneType' object is not subscriptable",
     "output_type": "error",
     "traceback": [
      "\u001b[0;31m---------------------------------------------------------------------------\u001b[0m",
      "\u001b[0;31mTypeError\u001b[0m                                 Traceback (most recent call last)",
      "Cell \u001b[0;32mIn[7], line 3\u001b[0m\n\u001b[1;32m      1\u001b[0m \u001b[38;5;66;03m#Find out what is the optimal number of clusters\u001b[39;00m\n\u001b[1;32m      2\u001b[0m well_model \u001b[38;5;241m=\u001b[39m Model_generator(data\u001b[38;5;241m=\u001b[39mwell_data\u001b[38;5;241m.\u001b[39mget_data())\n\u001b[0;32m----> 3\u001b[0m \u001b[43mwell_model\u001b[49m\u001b[38;5;241;43m.\u001b[39;49m\u001b[43moptimise_k_means\u001b[49m\u001b[43m(\u001b[49m\u001b[43mmax_k\u001b[49m\u001b[38;5;241;43m=\u001b[39;49m\u001b[38;5;241;43m16\u001b[39;49m\u001b[43m)\u001b[49m\n",
      "Cell \u001b[0;32mIn[5], line 65\u001b[0m, in \u001b[0;36mModel_generator.optimise_k_means\u001b[0;34m(self, max_k)\u001b[0m\n\u001b[1;32m     63\u001b[0m \u001b[38;5;28;01mfor\u001b[39;00m k \u001b[38;5;129;01min\u001b[39;00m \u001b[38;5;28mrange\u001b[39m(\u001b[38;5;241m1\u001b[39m, max_k):\n\u001b[1;32m     64\u001b[0m     kmeans \u001b[38;5;241m=\u001b[39m KMeans(n_clusters\u001b[38;5;241m=\u001b[39mk)\n\u001b[0;32m---> 65\u001b[0m     kmeans\u001b[38;5;241m.\u001b[39mfit(\u001b[38;5;28;43mself\u001b[39;49m\u001b[38;5;241;43m.\u001b[39;49m\u001b[43mdf\u001b[49m\u001b[43m[\u001b[49m\u001b[43m[\u001b[49m\u001b[38;5;124;43m\"\u001b[39;49m\u001b[38;5;124;43mGR\u001b[39;49m\u001b[38;5;124;43m\"\u001b[39;49m\u001b[43m,\u001b[49m\u001b[43m \u001b[49m\u001b[38;5;124;43m\"\u001b[39;49m\u001b[38;5;124;43mRHOB\u001b[39;49m\u001b[38;5;124;43m\"\u001b[39;49m\u001b[43m]\u001b[49m\u001b[43m]\u001b[49m\u001b[38;5;241m.\u001b[39mdropna(inplace\u001b[38;5;241m=\u001b[39m\u001b[38;5;28;01mTrue\u001b[39;00m))\n\u001b[1;32m     66\u001b[0m     means\u001b[38;5;241m.\u001b[39mappend(k)\n\u001b[1;32m     67\u001b[0m     inertias\u001b[38;5;241m.\u001b[39mappend(kmeans\u001b[38;5;241m.\u001b[39minertia_)\n",
      "\u001b[0;31mTypeError\u001b[0m: 'NoneType' object is not subscriptable"
     ]
    }
   ],
   "source": [
    "#Find out what is the optimal number of clusters\n",
    "well_model = Model_generator(data=well_data.get_data())\n",
    "well_model.optimise_k_means(max_k=16)"
   ]
  },
  {
   "cell_type": "code",
   "execution_count": null,
   "id": "354913bd",
   "metadata": {},
   "outputs": [],
   "source": [
    "df_w_labels = well_data.k_means_gmm(n_clusters=5, dataset=\"with_noise\") #apply kmeans and gmm and get the df with the labels\n",
    "#Vertical depth plot\n",
    "well_data.create_depth_plot(df_w_labels)"
   ]
  },
  {
   "cell_type": "code",
   "execution_count": null,
   "id": "3d196abe",
   "metadata": {},
   "outputs": [],
   "source": [
    "#Assess the effect of noise on the clustering accuracy\n",
    "well_data.plot_silhouette_score(5, max_noise=10, noise_step=0.5)"
   ]
  },
  {
   "cell_type": "code",
   "execution_count": 3,
   "id": "f6b30847",
   "metadata": {},
   "outputs": [
    {
     "ename": "AttributeError",
     "evalue": "'Data_generator' object has no attribute 'crossplots_kmm'",
     "output_type": "error",
     "traceback": [
      "\u001b[0;31m---------------------------------------------------------------------------\u001b[0m",
      "\u001b[0;31mAttributeError\u001b[0m                            Traceback (most recent call last)",
      "Cell \u001b[0;32mIn[3], line 2\u001b[0m\n\u001b[1;32m      1\u001b[0m \u001b[38;5;66;03m#Plot pairplots with kmeans labels\u001b[39;00m\n\u001b[0;32m----> 2\u001b[0m \u001b[43mwell_data\u001b[49m\u001b[38;5;241;43m.\u001b[39;49m\u001b[43mcrossplots_kmm\u001b[49m(df_w_labels)\n",
      "\u001b[0;31mAttributeError\u001b[0m: 'Data_generator' object has no attribute 'crossplots_kmm'"
     ]
    }
   ],
   "source": [
    "#Plot pairplots with kmeans labels\n",
    "well_data.crossplots_kmm(df_w_labels)"
   ]
  },
  {
   "cell_type": "code",
   "execution_count": 4,
   "id": "0ccce395",
   "metadata": {},
   "outputs": [
    {
     "ename": "AttributeError",
     "evalue": "'Data_generator' object has no attribute 'crossplots_gmm'",
     "output_type": "error",
     "traceback": [
      "\u001b[0;31m---------------------------------------------------------------------------\u001b[0m",
      "\u001b[0;31mAttributeError\u001b[0m                            Traceback (most recent call last)",
      "Cell \u001b[0;32mIn[4], line 2\u001b[0m\n\u001b[1;32m      1\u001b[0m \u001b[38;5;66;03m#Plot pairplots with gmm labels\u001b[39;00m\n\u001b[0;32m----> 2\u001b[0m \u001b[43mwell_data\u001b[49m\u001b[38;5;241;43m.\u001b[39;49m\u001b[43mcrossplots_gmm\u001b[49m(df_w_labels)\n",
      "\u001b[0;31mAttributeError\u001b[0m: 'Data_generator' object has no attribute 'crossplots_gmm'"
     ]
    }
   ],
   "source": [
    "#Plot pairplots with gmm labels\n",
    "well_data.crossplots_gmm(df_w_labels)"
   ]
  },
  {
   "cell_type": "code",
   "execution_count": null,
   "id": "8ccda6f8-9161-4de3-a8a8-f1f8cf712aa8",
   "metadata": {},
   "outputs": [],
   "source": []
  },
  {
   "cell_type": "code",
   "execution_count": null,
   "id": "0a246424-5bc3-44a2-b05c-3277a4b1dd98",
   "metadata": {},
   "outputs": [],
   "source": []
  },
  {
   "cell_type": "code",
   "execution_count": null,
   "id": "5519004f-87cf-4b4a-af66-1a06d84f4162",
   "metadata": {},
   "outputs": [],
   "source": []
  }
 ],
 "metadata": {
  "kernelspec": {
   "display_name": "Python 3 (ipykernel)",
   "language": "python",
   "name": "python3"
  },
  "language_info": {
   "codemirror_mode": {
    "name": "ipython",
    "version": 3
   },
   "file_extension": ".py",
   "mimetype": "text/x-python",
   "name": "python",
   "nbconvert_exporter": "python",
   "pygments_lexer": "ipython3",
   "version": "3.10.13"
  }
 },
 "nbformat": 4,
 "nbformat_minor": 5
}
